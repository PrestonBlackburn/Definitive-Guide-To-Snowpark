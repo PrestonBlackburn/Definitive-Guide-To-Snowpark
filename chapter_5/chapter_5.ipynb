{
 "cells": [
  {
   "cell_type": "markdown",
   "id": "5c1af3e2",
   "metadata": {},
   "source": [
    "### Session Creation "
   ]
  },
  {
   "cell_type": "code",
   "execution_count": 1,
   "id": "23aa55f1-e9c2-4d52-9c88-97fc81b2467c",
   "metadata": {
    "executionInfo": {
     "elapsed": 4591,
     "status": "ok",
     "timestamp": 1700293652284,
     "user": {
      "displayName": "Vivek Ss",
      "userId": "14764910798655109096"
     },
     "user_tz": -330
    },
    "id": "23aa55f1-e9c2-4d52-9c88-97fc81b2467c"
   },
   "outputs": [],
   "source": [
    "from snowflake.snowpark import Session\n",
    "from snowflake.snowpark.functions import col\n",
    "import configparser\n",
    "\n",
    "connection_parameters = {\n",
    "    \"account\": \"<your snowflake account identifier>\",\n",
    "    \"user\": \"<your snowflake username>\",\n",
    "    \"password\": \"<your snowflake password>\",\n",
    "    \"role\": \"<your snowflake role>\",\n",
    "    \"warehouse\": \"<your snowflake warehouse>\",  # optional\n",
    "    \"database\": \"<your snowflake database>\",  # optional\n",
    "    \"schema\": \"<your snowflake schema>\" # optional\n",
    "  }\n",
    "\n",
    "# it is best practice to not use/save your credentials in a jupyter notebook\n",
    "# In this case I'm loading my credentials as a dictionary\n",
    "snowflake_credentials_file = '../snowflake_creds.config'\n",
    "config = configparser.ConfigParser()\n",
    "config.read(snowflake_credentials_file)\n",
    "connection_parameters = dict(config['default'])\n",
    "session = Session.builder.configs(connection_parameters).create()"
   ]
  },
  {
   "cell_type": "markdown",
   "id": "dbd9a7b2",
   "metadata": {},
   "source": [
    "### Exploring & Preparing Data\n",
    "\n",
    "* Section covers code snippets to explore the dataset\n",
    "* Code snippets encompasses  high level data exploration function - top rows, row & column count etc"
   ]
  },
  {
   "cell_type": "code",
   "execution_count": 2,
   "id": "bf8c60e8-fcdf-4f95-8447-d6fbb20ceaf4",
   "metadata": {},
   "outputs": [
    {
     "data": {
      "text/plain": [
       "<snowflake.snowpark.table.Table at 0x1f5c2064fa0>"
      ]
     },
     "execution_count": 2,
     "metadata": {},
     "output_type": "execute_result"
    }
   ],
   "source": [
    "import pandas as pd\n",
    "\n",
    "# Load the bike dataset to snowflake\n",
    "session.use_database(\"SNOWPARK_DEFINITIVE_GUIDE\")\n",
    "session.use_schema(\"MY_SCHEMA\")\n",
    "\n",
    "bike_share_df = pd.read_csv(\"../datasets/bike_sharing_demand.csv\")\n",
    "# we want columns to be uppercase to follow Snowflake convention\n",
    "bike_share_df.columns = [column.upper() for column in bike_share_df.columns]\n",
    "\n",
    "session.write_pandas(\n",
    "     bike_share_df,\n",
    "     \"BSD_TRAINING\",\n",
    "     database = \"SNOWPARK_DEFINITIVE_GUIDE\",\n",
    "     schema = \"MY_SCHEMA\",\n",
    "     overwrite = True,\n",
    "     auto_create_table =True\n",
    ")\n"
   ]
  },
  {
   "cell_type": "code",
   "execution_count": 3,
   "id": "d4c8f8e3-df5d-48bb-aceb-10cacc2712f0",
   "metadata": {
    "executionInfo": {
     "elapsed": 357,
     "status": "ok",
     "timestamp": 1700293658447,
     "user": {
      "displayName": "Vivek Ss",
      "userId": "14764910798655109096"
     },
     "user_tz": -330
    },
    "id": "d4c8f8e3-df5d-48bb-aceb-10cacc2712f0"
   },
   "outputs": [],
   "source": [
    "#Lets Read In The Dataset\n",
    "df_table = session.table(\"BSD_TRAINING\")"
   ]
  },
  {
   "cell_type": "code",
   "execution_count": 4,
   "id": "a3faf3be-7942-41dd-91ff-7cb9fb627a41",
   "metadata": {},
   "outputs": [],
   "source": [
    "from snowflake.snowpark.functions import cast\n",
    "from snowflake.snowpark.types import TimestampType\n",
    "\n",
    "df_table = df_table.with_column(\"DATETIME\", cast(\"DATETIME\", TimestampType()))"
   ]
  },
  {
   "cell_type": "code",
   "execution_count": 5,
   "id": "df9f787f-9672-458b-ab5d-7baad578a540",
   "metadata": {
    "colab": {
     "base_uri": "https://localhost:8080/"
    },
    "executionInfo": {
     "elapsed": 914,
     "status": "ok",
     "timestamp": 1700293804550,
     "user": {
      "displayName": "Vivek Ss",
      "userId": "14764910798655109096"
     },
     "user_tz": -330
    },
    "id": "df9f787f-9672-458b-ab5d-7baad578a540",
    "outputId": "8dfd4266-2e42-4a76-fb41-b213683484a7"
   },
   "outputs": [
    {
     "name": "stdout",
     "output_type": "stream",
     "text": [
      "Total No of rows in dataset :  10886\n",
      "Total No of columns in dataset :  12\n"
     ]
    }
   ],
   "source": [
    "#Shape Of The Dataset\n",
    "number_of_rows = df_table.count()\n",
    "number_of_columns = len(df_table.columns)\n",
    "print(\"Total No of rows in dataset : \",number_of_rows)\n",
    "print(\"Total No of columns in dataset : \",number_of_columns)"
   ]
  },
  {
   "cell_type": "code",
   "execution_count": 6,
   "id": "107541c9-03cd-4713-871f-5277da103294",
   "metadata": {
    "id": "107541c9-03cd-4713-871f-5277da103294",
    "outputId": "48ec296b-5369-4afb-91a0-c43f45b51b3b"
   },
   "outputs": [
    {
     "name": "stdout",
     "output_type": "stream",
     "text": [
      "-----------------------------------------------------------------------------------------------------------------------------------------------------------\n",
      "|\"SEASON\"  |\"HOLIDAY\"  |\"WORKINGDAY\"  |\"WEATHER\"  |\"TEMP\"  |\"ATEMP\"  |\"HUMIDITY\"  |\"WINDSPEED\"  |\"CASUAL\"  |\"REGISTERED\"  |\"COUNT\"  |\"DATETIME\"           |\n",
      "-----------------------------------------------------------------------------------------------------------------------------------------------------------\n",
      "|1         |0          |1             |2          |14.76   |18.94    |18          |0.0          |35        |77            |112      |2011-03-08 15:00:00  |\n",
      "|1         |0          |0             |1          |5.74    |10.605   |86          |0.0          |2         |22            |24       |2011-02-12 01:00:00  |\n",
      "-----------------------------------------------------------------------------------------------------------------------------------------------------------\n",
      "\n"
     ]
    }
   ],
   "source": [
    "#Sample Of First Few Rows\n",
    "df_table.sample(n=2).show()"
   ]
  },
  {
   "cell_type": "code",
   "execution_count": 7,
   "id": "MguXFHHcaegc",
   "metadata": {
    "colab": {
     "base_uri": "https://localhost:8080/"
    },
    "executionInfo": {
     "elapsed": 380,
     "status": "ok",
     "timestamp": 1700294187162,
     "user": {
      "displayName": "Vivek Ss",
      "userId": "14764910798655109096"
     },
     "user_tz": -330
    },
    "id": "MguXFHHcaegc",
    "outputId": "19a82b65-a6f8-420f-aedd-32c0e8c88c63"
   },
   "outputs": [
    {
     "name": "stdout",
     "output_type": "stream",
     "text": [
      "[StructField('SEASON', LongType(), nullable=True),\n",
      " StructField('HOLIDAY', LongType(), nullable=True),\n",
      " StructField('WORKINGDAY', LongType(), nullable=True),\n",
      " StructField('WEATHER', LongType(), nullable=True),\n",
      " StructField('TEMP', DoubleType(), nullable=True),\n",
      " StructField('ATEMP', DoubleType(), nullable=True),\n",
      " StructField('HUMIDITY', LongType(), nullable=True),\n",
      " StructField('WINDSPEED', DoubleType(), nullable=True),\n",
      " StructField('CASUAL', LongType(), nullable=True),\n",
      " StructField('REGISTERED', LongType(), nullable=True),\n",
      " StructField('COUNT', LongType(), nullable=True),\n",
      " StructField('DATETIME', TimestampType(tz=ntz), nullable=True)]\n"
     ]
    }
   ],
   "source": [
    "import pprint\n",
    "data_types = df_table.schema\n",
    "data_types = df_table.schema.fields\n",
    "pprint.pprint(data_types)"
   ]
  },
  {
   "cell_type": "markdown",
   "id": "74b8ae54",
   "metadata": {},
   "source": [
    "### Missing Value Analysis\n",
    "\n",
    "* Section covers option to explore missing values in each feature"
   ]
  },
  {
   "cell_type": "code",
   "execution_count": 8,
   "id": "7e02d836-a01e-4637-bf45-5d3fdb5889d1",
   "metadata": {
    "id": "7e02d836-a01e-4637-bf45-5d3fdb5889d1",
    "outputId": "42086be2-fdad-4fa3-e1f9-841ccb0d316d"
   },
   "outputs": [
    {
     "name": "stdout",
     "output_type": "stream",
     "text": [
      "StructType([StructField('SEASON', LongType(), nullable=True), StructField('HOLIDAY', LongType(), nullable=True), StructField('WORKINGDAY', LongType(), nullable=True), StructField('WEATHER', LongType(), nullable=True), StructField('TEMP', DoubleType(), nullable=True), StructField('ATEMP', DoubleType(), nullable=True), StructField('HUMIDITY', LongType(), nullable=True), StructField('WINDSPEED', DoubleType(), nullable=True), StructField('CASUAL', LongType(), nullable=True), StructField('REGISTERED', LongType(), nullable=True), StructField('COUNT', LongType(), nullable=True), StructField('DATETIME', TimestampType(tz=ntz), nullable=True)])\n",
      "Null values in SEASON is 0\n",
      "Null values in HOLIDAY is 0\n",
      "Null values in WORKINGDAY is 0\n",
      "Null values in WEATHER is 0\n",
      "Null values in TEMP is 0\n",
      "Null values in ATEMP is 0\n",
      "Null values in HUMIDITY is 0\n",
      "Null values in WINDSPEED is 0\n",
      "Null values in CASUAL is 0\n",
      "Null values in REGISTERED is 0\n",
      "Null values in COUNT is 0\n",
      "Null values in DATETIME is 0\n"
     ]
    }
   ],
   "source": [
    "from snowflake.snowpark.functions import count, col\n",
    "data_types = df_table.schema\n",
    "print(data_types)\n",
    "for column in df_table.columns:\n",
    "    print(f\"Null values in {column} is {number_of_rows - df_table.agg(count(col(column))).collect()[0][0]}\")"
   ]
  },
  {
   "cell_type": "markdown",
   "id": "WkeOK2Q27ZOS",
   "metadata": {
    "id": "WkeOK2Q27ZOS"
   },
   "source": [
    "### Feature Engineering\n",
    "\n",
    "* Section encompasses code snippets to create new features from DATETIME Column"
   ]
  },
  {
   "cell_type": "code",
   "execution_count": 9,
   "id": "c6a4cbf2-4df3-4977-86b8-8be4156a30e8",
   "metadata": {
    "id": "c6a4cbf2-4df3-4977-86b8-8be4156a30e8",
    "outputId": "a3d4e7d2-b29a-4d09-8ffd-8497d6afc194"
   },
   "outputs": [
    {
     "name": "stdout",
     "output_type": "stream",
     "text": [
      "--------------------------------------------------------------------------------------------------------------------------------------------------------------------\n",
      "|\"SEASON\"  |\"HOLIDAY\"  |\"WORKINGDAY\"  |\"WEATHER\"  |\"TEMP\"  |\"ATEMP\"  |\"HUMIDITY\"  |\"WINDSPEED\"  |\"CASUAL\"  |\"REGISTERED\"  |\"COUNT\"  |\"DATETIME\"           |\"HOUR\"  |\n",
      "--------------------------------------------------------------------------------------------------------------------------------------------------------------------\n",
      "|1         |0          |0             |1          |9.84    |14.395   |81          |0.0          |3         |13            |16       |2011-01-01 00:00:00  |0       |\n",
      "|1         |0          |0             |1          |9.02    |13.635   |80          |0.0          |8         |32            |40       |2011-01-01 01:00:00  |1       |\n",
      "|1         |0          |0             |1          |9.02    |13.635   |80          |0.0          |5         |27            |32       |2011-01-01 02:00:00  |2       |\n",
      "|1         |0          |0             |1          |9.84    |14.395   |75          |0.0          |3         |10            |13       |2011-01-01 03:00:00  |3       |\n",
      "|1         |0          |0             |1          |9.84    |14.395   |75          |0.0          |0         |1             |1        |2011-01-01 04:00:00  |4       |\n",
      "|1         |0          |0             |2          |9.84    |12.88    |75          |6.0032       |0         |1             |1        |2011-01-01 05:00:00  |5       |\n",
      "|1         |0          |0             |1          |9.02    |13.635   |80          |0.0          |2         |0             |2        |2011-01-01 06:00:00  |6       |\n",
      "|1         |0          |0             |1          |8.2     |12.88    |86          |0.0          |1         |2             |3        |2011-01-01 07:00:00  |7       |\n",
      "|1         |0          |0             |1          |9.84    |14.395   |75          |0.0          |1         |7             |8        |2011-01-01 08:00:00  |8       |\n",
      "|1         |0          |0             |1          |13.12   |17.425   |76          |0.0          |8         |6             |14       |2011-01-01 09:00:00  |9       |\n",
      "--------------------------------------------------------------------------------------------------------------------------------------------------------------------\n",
      "\n"
     ]
    }
   ],
   "source": [
    "from snowflake.snowpark.functions import hour\n",
    "df_table = df_table.with_column(\"hour\", hour(\"DATETIME\"))\n",
    "df_table.show()"
   ]
  },
  {
   "cell_type": "code",
   "execution_count": 10,
   "id": "6abc230b-e622-4016-9a01-11269c517361",
   "metadata": {
    "id": "6abc230b-e622-4016-9a01-11269c517361",
    "outputId": "7cb99f51-c110-4bd4-ee08-f772f3ac5f0d"
   },
   "outputs": [
    {
     "name": "stdout",
     "output_type": "stream",
     "text": [
      "------------------------------------------------------------------------------------------------------------------------------------------------------------------------------\n",
      "|\"SEASON\"  |\"HOLIDAY\"  |\"WORKINGDAY\"  |\"WEATHER\"  |\"TEMP\"  |\"ATEMP\"  |\"HUMIDITY\"  |\"WINDSPEED\"  |\"CASUAL\"  |\"REGISTERED\"  |\"COUNT\"  |\"DATETIME\"           |\"HOUR\"  |\"MONTH\"  |\n",
      "------------------------------------------------------------------------------------------------------------------------------------------------------------------------------\n",
      "|1         |0          |0             |1          |9.84    |14.395   |81          |0.0          |3         |13            |16       |2011-01-01 00:00:00  |0       |1        |\n",
      "|1         |0          |0             |1          |9.02    |13.635   |80          |0.0          |8         |32            |40       |2011-01-01 01:00:00  |1       |1        |\n",
      "|1         |0          |0             |1          |9.02    |13.635   |80          |0.0          |5         |27            |32       |2011-01-01 02:00:00  |2       |1        |\n",
      "|1         |0          |0             |1          |9.84    |14.395   |75          |0.0          |3         |10            |13       |2011-01-01 03:00:00  |3       |1        |\n",
      "|1         |0          |0             |1          |9.84    |14.395   |75          |0.0          |0         |1             |1        |2011-01-01 04:00:00  |4       |1        |\n",
      "|1         |0          |0             |2          |9.84    |12.88    |75          |6.0032       |0         |1             |1        |2011-01-01 05:00:00  |5       |1        |\n",
      "|1         |0          |0             |1          |9.02    |13.635   |80          |0.0          |2         |0             |2        |2011-01-01 06:00:00  |6       |1        |\n",
      "|1         |0          |0             |1          |8.2     |12.88    |86          |0.0          |1         |2             |3        |2011-01-01 07:00:00  |7       |1        |\n",
      "|1         |0          |0             |1          |9.84    |14.395   |75          |0.0          |1         |7             |8        |2011-01-01 08:00:00  |8       |1        |\n",
      "|1         |0          |0             |1          |13.12   |17.425   |76          |0.0          |8         |6             |14       |2011-01-01 09:00:00  |9       |1        |\n",
      "------------------------------------------------------------------------------------------------------------------------------------------------------------------------------\n",
      "\n"
     ]
    }
   ],
   "source": [
    "from snowflake.snowpark.functions import month\n",
    "df_table = df_table.with_column(\"month\", month(\"DATETIME\"))\n",
    "df_table.show()"
   ]
  },
  {
   "cell_type": "code",
   "execution_count": 11,
   "id": "2c092194-e8ed-4b4d-a15f-d20b876f74a5",
   "metadata": {
    "id": "2c092194-e8ed-4b4d-a15f-d20b876f74a5",
    "outputId": "b84494a3-0205-4a81-b8da-fe962c13a9cd"
   },
   "outputs": [
    {
     "name": "stdout",
     "output_type": "stream",
     "text": [
      "-------------------------------------------------------------------------------------------------------------------------------------------------------------------------------------------\n",
      "|\"SEASON\"  |\"HOLIDAY\"  |\"WORKINGDAY\"  |\"WEATHER\"  |\"TEMP\"  |\"ATEMP\"  |\"HUMIDITY\"  |\"WINDSPEED\"  |\"CASUAL\"  |\"REGISTERED\"  |\"COUNT\"  |\"DATETIME\"           |\"HOUR\"  |\"MONTH\"  |\"DATE\"      |\n",
      "-------------------------------------------------------------------------------------------------------------------------------------------------------------------------------------------\n",
      "|1         |0          |0             |1          |9.84    |14.395   |81          |0.0          |3         |13            |16       |2011-01-01 00:00:00  |0       |1        |2011-01-01  |\n",
      "|1         |0          |0             |1          |9.02    |13.635   |80          |0.0          |8         |32            |40       |2011-01-01 01:00:00  |1       |1        |2011-01-01  |\n",
      "|1         |0          |0             |1          |9.02    |13.635   |80          |0.0          |5         |27            |32       |2011-01-01 02:00:00  |2       |1        |2011-01-01  |\n",
      "|1         |0          |0             |1          |9.84    |14.395   |75          |0.0          |3         |10            |13       |2011-01-01 03:00:00  |3       |1        |2011-01-01  |\n",
      "|1         |0          |0             |1          |9.84    |14.395   |75          |0.0          |0         |1             |1        |2011-01-01 04:00:00  |4       |1        |2011-01-01  |\n",
      "|1         |0          |0             |2          |9.84    |12.88    |75          |6.0032       |0         |1             |1        |2011-01-01 05:00:00  |5       |1        |2011-01-01  |\n",
      "|1         |0          |0             |1          |9.02    |13.635   |80          |0.0          |2         |0             |2        |2011-01-01 06:00:00  |6       |1        |2011-01-01  |\n",
      "|1         |0          |0             |1          |8.2     |12.88    |86          |0.0          |1         |2             |3        |2011-01-01 07:00:00  |7       |1        |2011-01-01  |\n",
      "|1         |0          |0             |1          |9.84    |14.395   |75          |0.0          |1         |7             |8        |2011-01-01 08:00:00  |8       |1        |2011-01-01  |\n",
      "|1         |0          |0             |1          |13.12   |17.425   |76          |0.0          |8         |6             |14       |2011-01-01 09:00:00  |9       |1        |2011-01-01  |\n",
      "-------------------------------------------------------------------------------------------------------------------------------------------------------------------------------------------\n",
      "\n"
     ]
    }
   ],
   "source": [
    "from snowflake.snowpark.functions import to_date\n",
    "df_table = df_table.with_column(\"date\", to_date(\"DATETIME\"))\n",
    "df_table.show()"
   ]
  },
  {
   "cell_type": "code",
   "execution_count": 12,
   "id": "9add93d0-c0a3-47df-99ed-7dfab68a46ee",
   "metadata": {
    "id": "9add93d0-c0a3-47df-99ed-7dfab68a46ee",
    "outputId": "2c025fdf-103e-4322-85ba-15fa4503b82c"
   },
   "outputs": [
    {
     "name": "stdout",
     "output_type": "stream",
     "text": [
      "-------------------------------------------------------------------------------------------------------------------------------------------------------------------------------------------------------\n",
      "|\"SEASON\"  |\"HOLIDAY\"  |\"WORKINGDAY\"  |\"WEATHER\"  |\"TEMP\"  |\"ATEMP\"  |\"HUMIDITY\"  |\"WINDSPEED\"  |\"CASUAL\"  |\"REGISTERED\"  |\"COUNT\"  |\"DATETIME\"           |\"HOUR\"  |\"MONTH\"  |\"DATE\"      |\"WEEKDAY\"  |\n",
      "-------------------------------------------------------------------------------------------------------------------------------------------------------------------------------------------------------\n",
      "|1         |0          |0             |1          |9.84    |14.395   |81          |0.0          |3         |13            |16       |2011-01-01 00:00:00  |0       |1        |2011-01-01  |6          |\n",
      "|1         |0          |0             |1          |9.02    |13.635   |80          |0.0          |8         |32            |40       |2011-01-01 01:00:00  |1       |1        |2011-01-01  |6          |\n",
      "|1         |0          |0             |1          |9.02    |13.635   |80          |0.0          |5         |27            |32       |2011-01-01 02:00:00  |2       |1        |2011-01-01  |6          |\n",
      "|1         |0          |0             |1          |9.84    |14.395   |75          |0.0          |3         |10            |13       |2011-01-01 03:00:00  |3       |1        |2011-01-01  |6          |\n",
      "|1         |0          |0             |1          |9.84    |14.395   |75          |0.0          |0         |1             |1        |2011-01-01 04:00:00  |4       |1        |2011-01-01  |6          |\n",
      "|1         |0          |0             |2          |9.84    |12.88    |75          |6.0032       |0         |1             |1        |2011-01-01 05:00:00  |5       |1        |2011-01-01  |6          |\n",
      "|1         |0          |0             |1          |9.02    |13.635   |80          |0.0          |2         |0             |2        |2011-01-01 06:00:00  |6       |1        |2011-01-01  |6          |\n",
      "|1         |0          |0             |1          |8.2     |12.88    |86          |0.0          |1         |2             |3        |2011-01-01 07:00:00  |7       |1        |2011-01-01  |6          |\n",
      "|1         |0          |0             |1          |9.84    |14.395   |75          |0.0          |1         |7             |8        |2011-01-01 08:00:00  |8       |1        |2011-01-01  |6          |\n",
      "|1         |0          |0             |1          |13.12   |17.425   |76          |0.0          |8         |6             |14       |2011-01-01 09:00:00  |9       |1        |2011-01-01  |6          |\n",
      "-------------------------------------------------------------------------------------------------------------------------------------------------------------------------------------------------------\n",
      "\n"
     ]
    }
   ],
   "source": [
    "from snowflake.snowpark.functions import dayofweek\n",
    "df_table = df_table.with_column(\"weekday\", dayofweek(\"DATETIME\"))\n",
    "df_table.show()"
   ]
  },
  {
   "cell_type": "markdown",
   "id": "388bb21a",
   "metadata": {},
   "source": [
    "### Outlier Analysis\n",
    "\n",
    "* Section provides code snippets to Visualize outliers in dataset\n",
    "* Code snippets encompasses mechanism to remove outliers from dataset"
   ]
  },
  {
   "cell_type": "code",
   "execution_count": 13,
   "id": "ccac30c8-b5f2-48f6-988a-4e9a85f62a56",
   "metadata": {
    "id": "ccac30c8-b5f2-48f6-988a-4e9a85f62a56",
    "outputId": "0adb5aa5-7f84-4155-fbcc-c754ff5c2a09"
   },
   "outputs": [
    {
     "name": "stdout",
     "output_type": "stream",
     "text": [
      "191.574132\n",
      "181.14445382898148\n",
      "-------------------------------------------------------------------------------------------------------------------------------------------------------------------------------------------------------\n",
      "|\"SEASON\"  |\"HOLIDAY\"  |\"WORKINGDAY\"  |\"WEATHER\"  |\"TEMP\"  |\"ATEMP\"  |\"HUMIDITY\"  |\"WINDSPEED\"  |\"CASUAL\"  |\"REGISTERED\"  |\"COUNT\"  |\"DATETIME\"           |\"HOUR\"  |\"MONTH\"  |\"DATE\"      |\"WEEKDAY\"  |\n",
      "-------------------------------------------------------------------------------------------------------------------------------------------------------------------------------------------------------\n",
      "|1         |0          |1             |1          |28.7    |31.82    |28          |6.0032       |140       |642           |782      |2012-03-14 17:00:00  |17      |3        |2012-03-14  |3          |\n",
      "|1         |0          |1             |1          |28.7    |31.82    |32          |0.0          |102       |647           |749      |2012-03-14 18:00:00  |18      |3        |2012-03-14  |3          |\n",
      "|1         |0          |1             |1          |27.06   |31.06    |44          |19.0012      |98        |648           |746      |2012-03-15 18:00:00  |18      |3        |2012-03-15  |4          |\n",
      "|1         |0          |1             |1          |26.24   |31.06    |57          |16.9979      |120       |681           |801      |2012-03-19 18:00:00  |18      |3        |2012-03-19  |1          |\n",
      "|2         |0          |1             |1          |25.42   |30.305   |17          |12.998       |123       |634           |757      |2012-04-03 17:00:00  |17      |4        |2012-04-03  |2          |\n",
      "|2         |0          |1             |1          |24.6    |30.305   |26          |11.0014      |139       |661           |800      |2012-04-03 18:00:00  |18      |4        |2012-04-03  |2          |\n",
      "|2         |0          |1             |1          |27.06   |31.06    |41          |19.9995      |99        |645           |744      |2012-04-04 17:00:00  |17      |4        |2012-04-04  |3          |\n",
      "|2         |0          |1             |1          |27.06   |31.06    |41          |16.9979      |113       |646           |759      |2012-04-04 18:00:00  |18      |4        |2012-04-04  |3          |\n",
      "|2         |0          |1             |1          |20.5    |24.24    |31          |11.0014      |145       |677           |822      |2012-04-05 17:00:00  |17      |4        |2012-04-05  |4          |\n",
      "|2         |0          |1             |1          |22.96   |26.515   |21          |35.0008      |88        |656           |744      |2012-04-10 17:00:00  |17      |4        |2012-04-10  |2          |\n",
      "-------------------------------------------------------------------------------------------------------------------------------------------------------------------------------------------------------\n",
      "\n"
     ]
    }
   ],
   "source": [
    "#Removing Outliers\n",
    "from snowflake.snowpark.functions import mean, stddev, abs, date_part\n",
    "\n",
    "mean_value = df_table.select(mean(\"count\")).collect()[0][0]\n",
    "print(mean_value)\n",
    "\n",
    "std_value = df_table.select(stddev(\"count\")).collect()[0][0]\n",
    "print(std_value)\n",
    "\n",
    "df_without_outlier = df_table.filter((abs(df_table[\"count\"] - mean_value)) >= (3 * std_value))\n",
    "df_without_outlier.show()"
   ]
  },
  {
   "cell_type": "code",
   "execution_count": 14,
   "id": "FSjDHuGe7mEQ",
   "metadata": {
    "id": "FSjDHuGe7mEQ",
    "outputId": "64cec763-fdc9-4dba-9fc5-a38628439dd1"
   },
   "outputs": [
    {
     "data": {
      "image/png": "[encoded data removed]",
      "text/plain": [
       "<Figure size 640x480 with 2 Axes>"
      ]
     },
     "metadata": {},
     "output_type": "display_data"
    }
   ],
   "source": [
    "import seaborn as sns\n",
    "import matplotlib.pyplot as plt\n",
    "f, axes = plt.subplots(1, 2)\n",
    "sns.boxplot(x=df_table.to_pandas()['COUNT'], ax=axes[0])\n",
    "sns.boxplot(x=df_without_outlier.to_pandas()['COUNT'], ax=axes[1])\n",
    "plt.show()"
   ]
  },
  {
   "cell_type": "markdown",
   "id": "a4b360f6",
   "metadata": {},
   "source": [
    "### Correlation Analysis\n",
    "\n",
    "* Section cover snowpark default option to calculate correlation score\n",
    "* Also provides code snippet - by converting to pandas dataframe"
   ]
  },
  {
   "cell_type": "code",
   "execution_count": 15,
   "id": "7ffe6d64-11f4-45df-b0e2-b4bde6966be5",
   "metadata": {
    "id": "7ffe6d64-11f4-45df-b0e2-b4bde6966be5",
    "outputId": "b1226e6e-6e81-4d86-bfe8-8773b54c6e07"
   },
   "outputs": [
    {
     "name": "stdout",
     "output_type": "stream",
     "text": [
      "Correlation between temp and atemp is 0.8867069954671704\n",
      "Correlation between temp and casual is 0.27439586514534764\n",
      "Correlation between temp and registered is -0.11344260141130262\n",
      "Correlation between temp and humidity is -0.22209903468060024\n",
      "Correlation between temp and windspeed is -0.00282142677568521\n",
      "Correlation between temp and count is 0.090925961635169\n",
      "Correlation between atemp and casual is 0.2147513221104753\n",
      "Correlation between atemp and registered is -0.0797053102397002\n",
      "Correlation between atemp and humidity is -0.13160630310282323\n",
      "Correlation between atemp and windspeed is -0.029077657967140087\n",
      "Correlation between atemp and count is 0.08216007024581092\n",
      "Correlation between casual and registered is -0.5753920258798173\n",
      "Correlation between casual and humidity is -0.4627632395376554\n",
      "Correlation between casual and windspeed is 0.016935938842728943\n",
      "Correlation between casual and count is 0.13515372607423487\n",
      "Correlation between registered and humidity is 0.230233618846889\n",
      "Correlation between registered and windspeed is 0.0008793332730113127\n",
      "Correlation between registered and count is 0.7326070538152109\n",
      "Correlation between humidity and windspeed is -0.16794858261525875\n",
      "Correlation between humidity and count is -0.10620107926342576\n",
      "Correlation between windspeed and count is 0.015159652778417163\n"
     ]
    }
   ],
   "source": [
    "#Correlation\n",
    "column_list = [\"temp\",\"atemp\",\"casual\",\"registered\",\"humidity\",\"windspeed\",\"count\"]\n",
    "for i in range(0, len(column_list) - 1):\n",
    "    for j in range( i + 1, len(column_list)):\n",
    "        correlation = df_without_outlier.stat.corr(column_list[i], column_list[j])\n",
    "        text = f\"Correlation between {column_list[i]} and {column_list[j]} is {correlation}\"\n",
    "        print(text)"
   ]
  },
  {
   "cell_type": "code",
   "execution_count": 16,
   "id": "fyUtVMOW63V0",
   "metadata": {
    "id": "fyUtVMOW63V0",
    "outputId": "43581513-63b1-4427-b7ee-425380fded17"
   },
   "outputs": [
    {
     "data": {
      "text/plain": [
       "<Axes: >"
      ]
     },
     "execution_count": 16,
     "metadata": {},
     "output_type": "execute_result"
    },
    {
     "data": {
      "image/png": "[encoded data removed]",
      "text/plain": [
       "<Figure size 1200x600 with 2 Axes>"
      ]
     },
     "metadata": {},
     "output_type": "display_data"
    }
   ],
   "source": [
    "column_list_upper = [column.upper() for column in column_list]\n",
    "df_corr = df_without_outlier.select(*column_list_upper)\n",
    "corr_matrix = df_corr.to_pandas().corr()\n",
    "plt.figure(figsize=(12, 6))\n",
    "sns.heatmap(corr_matrix, cmap='coolwarm', annot=True)"
   ]
  },
  {
   "cell_type": "markdown",
   "id": "4bbf927a",
   "metadata": {},
   "source": [
    "### Filling 0's In windspeed -  Using Mean\n",
    "\n",
    "* Code demostrates filling in missing values in Windspeed using Mean"
   ]
  },
  {
   "cell_type": "code",
   "execution_count": 17,
   "id": "0f45fe28-5c6b-4a57-8b13-9e41b5903418",
   "metadata": {
    "id": "0f45fe28-5c6b-4a57-8b13-9e41b5903418",
    "outputId": "b89de6d4-fd02-4994-ca33-1345fa43f5cf"
   },
   "outputs": [
    {
     "name": "stdout",
     "output_type": "stream",
     "text": [
      "-----------------------------------------------------------------------------------------------------------------------------------------------------------\n",
      "|\"DATETIME\"           |\"SEASON\"  |\"HOLIDAY\"  |\"WORKINGDAY\"  |\"WEATHER\"  |\"TEMP\"  |\"ATEMP\"  |\"HUMIDITY\"  |\"WINDSPEED\"  |\"CASUAL\"  |\"REGISTERED\"  |\"COUNT\"  |\n",
      "-----------------------------------------------------------------------------------------------------------------------------------------------------------\n",
      "|2011-01-01 00:00:00  |1         |0          |0             |1          |9.84    |14.395   |81          |0.0          |3         |13            |16       |\n",
      "|2011-01-01 01:00:00  |1         |0          |0             |1          |9.02    |13.635   |80          |0.0          |8         |32            |40       |\n",
      "|2011-01-01 02:00:00  |1         |0          |0             |1          |9.02    |13.635   |80          |0.0          |5         |27            |32       |\n",
      "|2011-01-01 03:00:00  |1         |0          |0             |1          |9.84    |14.395   |75          |0.0          |3         |10            |13       |\n",
      "|2011-01-01 04:00:00  |1         |0          |0             |1          |9.84    |14.395   |75          |0.0          |0         |1             |1        |\n",
      "|2011-01-01 05:00:00  |1         |0          |0             |2          |9.84    |12.88    |75          |6.0032       |0         |1             |1        |\n",
      "|2011-01-01 06:00:00  |1         |0          |0             |1          |9.02    |13.635   |80          |0.0          |2         |0             |2        |\n",
      "|2011-01-01 07:00:00  |1         |0          |0             |1          |8.2     |12.88    |86          |0.0          |1         |2             |3        |\n",
      "|2011-01-01 08:00:00  |1         |0          |0             |1          |9.84    |14.395   |75          |0.0          |1         |7             |8        |\n",
      "|2011-01-01 09:00:00  |1         |0          |0             |1          |13.12   |17.425   |76          |0.0          |8         |6             |14       |\n",
      "-----------------------------------------------------------------------------------------------------------------------------------------------------------\n",
      "\n"
     ]
    }
   ],
   "source": [
    "df = session.table(\"BSD_TRAINING\")\n",
    "df.show()"
   ]
  },
  {
   "cell_type": "code",
   "execution_count": 18,
   "id": "55c6a1a3",
   "metadata": {},
   "outputs": [
    {
     "name": "stdout",
     "output_type": "stream",
     "text": [
      "Zero Values in windspeed column is 1313\n"
     ]
    }
   ],
   "source": [
    "print(f\"Zero Values in windspeed column is {df_table.filter(df_table['WINDSPEED']==0).count()}\")"
   ]
  },
  {
   "cell_type": "code",
   "execution_count": 19,
   "id": "c49c3363-2a64-4209-aaa8-fbee0a6d58c9",
   "metadata": {
    "id": "c49c3363-2a64-4209-aaa8-fbee0a6d58c9",
    "outputId": "0134ca22-b034-4b7f-8f71-464ab993ecc9"
   },
   "outputs": [
    {
     "name": "stdout",
     "output_type": "stream",
     "text": [
      "12.7993954069447\n"
     ]
    }
   ],
   "source": [
    "wind_speed_mean = df_table.select(mean(\"windspeed\")).collect()[0][0]\n",
    "print(wind_speed_mean)"
   ]
  },
  {
   "cell_type": "code",
   "execution_count": 20,
   "id": "a4d8f1e4-c128-49d7-9132-42ffd0b1b9e6",
   "metadata": {
    "id": "a4d8f1e4-c128-49d7-9132-42ffd0b1b9e6",
    "outputId": "adbb70d8-763b-40df-e664-d622e7860f17"
   },
   "outputs": [
    {
     "name": "stdout",
     "output_type": "stream",
     "text": [
      "------------------------------------------------------------------------------------------------------------------------------------------------------------------------------------------------------------\n",
      "|\"SEASON\"  |\"HOLIDAY\"  |\"WORKINGDAY\"  |\"WEATHER\"  |\"TEMP\"  |\"ATEMP\"  |\"HUMIDITY\"  |\"WINDSPEED\"       |\"CASUAL\"  |\"REGISTERED\"  |\"COUNT\"  |\"DATETIME\"           |\"HOUR\"  |\"MONTH\"  |\"DATE\"      |\"WEEKDAY\"  |\n",
      "------------------------------------------------------------------------------------------------------------------------------------------------------------------------------------------------------------\n",
      "|1         |0          |0             |1          |9.84    |14.395   |81          |12.7993954069447  |3         |13            |16       |2011-01-01 00:00:00  |0       |1        |2011-01-01  |6          |\n",
      "|1         |0          |0             |1          |9.02    |13.635   |80          |12.7993954069447  |8         |32            |40       |2011-01-01 01:00:00  |1       |1        |2011-01-01  |6          |\n",
      "|1         |0          |0             |1          |9.02    |13.635   |80          |12.7993954069447  |5         |27            |32       |2011-01-01 02:00:00  |2       |1        |2011-01-01  |6          |\n",
      "|1         |0          |0             |1          |9.84    |14.395   |75          |12.7993954069447  |3         |10            |13       |2011-01-01 03:00:00  |3       |1        |2011-01-01  |6          |\n",
      "|1         |0          |0             |1          |9.84    |14.395   |75          |12.7993954069447  |0         |1             |1        |2011-01-01 04:00:00  |4       |1        |2011-01-01  |6          |\n",
      "|1         |0          |0             |2          |9.84    |12.88    |75          |6.0032            |0         |1             |1        |2011-01-01 05:00:00  |5       |1        |2011-01-01  |6          |\n",
      "|1         |0          |0             |1          |9.02    |13.635   |80          |12.7993954069447  |2         |0             |2        |2011-01-01 06:00:00  |6       |1        |2011-01-01  |6          |\n",
      "|1         |0          |0             |1          |8.2     |12.88    |86          |12.7993954069447  |1         |2             |3        |2011-01-01 07:00:00  |7       |1        |2011-01-01  |6          |\n",
      "|1         |0          |0             |1          |9.84    |14.395   |75          |12.7993954069447  |1         |7             |8        |2011-01-01 08:00:00  |8       |1        |2011-01-01  |6          |\n",
      "|1         |0          |0             |1          |13.12   |17.425   |76          |12.7993954069447  |8         |6             |14       |2011-01-01 09:00:00  |9       |1        |2011-01-01  |6          |\n",
      "------------------------------------------------------------------------------------------------------------------------------------------------------------------------------------------------------------\n",
      "\n"
     ]
    }
   ],
   "source": [
    "from snowflake.snowpark.functions import iff, avg\n",
    "df_train = df_table.replace({0:wind_speed_mean}, subset=[\"windspeed\"])\n",
    "df_train.show()\n",
    "df_train.write.mode(\"overwrite\").save_as_table(\"model_data\")"
   ]
  },
  {
   "cell_type": "markdown",
   "id": "a1db61b7",
   "metadata": {},
   "source": [
    "### LINEAR REGRESSION MODEL - Using Sklearn\n",
    "* Section demonstrates how traditionally ML models can be built & deployed using Stored Procedures\n",
    "* Section was included to explain how SNOWPARK ML eases model building process in the following section\n",
    "\n",
    "If Scikit-learn is not installed already, install with:\n",
    "```bash\n",
    "pip install -U scikit-learn\n",
    "```"
   ]
  },
  {
   "cell_type": "code",
   "execution_count": 23,
   "id": "c9437531-ec38-448b-b314-80dff1da7ff7",
   "metadata": {},
   "outputs": [
    {
     "data": {
      "text/plain": [
       "[Row(status='Stage area SNOWPARK_TEST_STAGE successfully created.')]"
      ]
     },
     "execution_count": 23,
     "metadata": {},
     "output_type": "execute_result"
    }
   ],
   "source": [
    "# Prepare your stage to save our models to:\n",
    "session.sql(\"CREATE STAGE IF NOT EXISTS SNOWPARK_DEFINITIVE_GUIDE.MY_SCHEMA.SNOWPARK_TEST_STAGE\").collect()"
   ]
  },
  {
   "cell_type": "code",
   "execution_count": 27,
   "id": "189b747c-be3b-4abf-af82-f265a41f718a",
   "metadata": {
    "id": "189b747c-be3b-4abf-af82-f265a41f718a",
    "outputId": "6e261b0f-5abe-4000-bcbf-9c31011e2f66"
   },
   "outputs": [
    {
     "name": "stderr",
     "output_type": "stream",
     "text": [
      "The version of package 'scikit-learn' in the local environment is 1.3.2, which does not fit the criteria for the requirement 'scikit-learn'. Your UDF might not work when the package version is different between the server and your local environment.\n",
      "The version of package 'joblib' in the local environment is 1.3.2, which does not fit the criteria for the requirement 'joblib'. Your UDF might not work when the package version is different between the server and your local environment.\n"
     ]
    },
    {
     "data": {
      "text/plain": [
       "'Success'"
      ]
     },
     "execution_count": 27,
     "metadata": {},
     "output_type": "execute_result"
    }
   ],
   "source": [
    "from sklearn.linear_model import LinearRegression,Ridge,Lasso\n",
    "from sklearn.model_selection import GridSearchCV, train_test_split\n",
    "from sklearn import metrics\n",
    "from snowflake.snowpark.types import StringType\n",
    "import numpy as np\n",
    "import joblib\n",
    "\n",
    "def fit_linear_regressor(session:Session,\n",
    "    table_name: str, feature_list: list, target_col: str, category_variable_list: list)->str:\n",
    "    model = LinearRegression()\n",
    "    df = session.table(table_name).to_pandas()\n",
    "\n",
    "    for column in category_variable_list:\n",
    "        df[column] = df[column].astype(\"category\")\n",
    "    y_lables_log = np.log1p(df[target_col])\n",
    "    x_train, x_test, y_train, y_test = train_test_split(df, y_lables_log, test_size=0.3, random_state=42)\n",
    "\n",
    "    test_df = session.create_dataframe(x_test)\n",
    "    test_df.write.mode(\"overwrite\").save_as_table(\"lr_test\")\n",
    "\n",
    "    model.fit(x_train[feature_list], y_train)\n",
    "    joblib.dump(model, '/tmp/lr_model.joblib')\n",
    "\n",
    "    # upload into my_internal_stage in Snowflake\n",
    "    session.file.put(\n",
    "        \"/tmp/lr_model.joblib\", \"@snowpark_test_stage\", auto_compress=False, overwrite=True\n",
    "    )\n",
    "    return 'Success'\n",
    "\n",
    "session.sproc.register(\n",
    "    func = fit_linear_regressor,\n",
    "    is_permanent = True,\n",
    "    name = 'fit_linear_regressor',\n",
    "    replace = True,\n",
    "    return_type = StringType(),\n",
    "    stage_location = '@snowpark_test_stage',\n",
    "    packages=[\n",
    "            'snowflake-snowpark-python',\n",
    "            'scikit-learn',\n",
    "            'joblib',\n",
    "            'numpy'\n",
    "    ]\n",
    ")\n",
    "\n",
    "feature_list = [\"SEASON\", \"HOLIDAY\", \"WORKINGDAY\", \"WEATHER\", \"WEEKDAY\", \"HOUR\", \"HUMIDITY\", \"MONTH\", \"TEMP\", \"ATEMP\", \"WINDSPEED\"]\n",
    "category_variable_list = [\"HOUR\",\"WEEKDAY\",\"MONTH\",\"SEASON\",\"WEATHER\",\"HOLIDAY\",\"WORKINGDAY\"]\n",
    "table_name = \"model_data\"\n",
    "target_column = \"COUNT\"\n",
    "session.call(\"fit_linear_regressor\", table_name, feature_list, target_column, category_variable_list)\n"
   ]
  },
  {
   "cell_type": "code",
   "execution_count": 30,
   "id": "7f9b96f0-101e-4c3a-ae6d-17632334969f",
   "metadata": {
    "id": "7f9b96f0-101e-4c3a-ae6d-17632334969f",
    "outputId": "2a0f47db-e2e9-4c0e-f7e4-309bc5492402"
   },
   "outputs": [
    {
     "name": "stderr",
     "output_type": "stream",
     "text": [
      "The version of package 'scikit-learn' in the local environment is 1.3.2, which does not fit the criteria for the requirement 'scikit-learn'. Your UDF might not work when the package version is different between the server and your local environment.\n",
      "The version of package 'joblib' in the local environment is 1.3.2, which does not fit the criteria for the requirement 'joblib'. Your UDF might not work when the package version is different between the server and your local environment.\n"
     ]
    },
    {
     "data": {
      "text/plain": [
       "<snowflake.snowpark.udf.UserDefinedFunction at 0x1f5dd200910>"
      ]
     },
     "execution_count": 30,
     "metadata": {},
     "output_type": "execute_result"
    }
   ],
   "source": [
    "session.clear_imports()\n",
    "session.clear_packages()\n",
    "\n",
    "session.add_import(\"@snowpark_test_stage/lr_model.joblib\")\n",
    "\n",
    "from snowflake.snowpark.types import PandasDataFrame, PandasSeries\n",
    "\n",
    "\n",
    "\n",
    "def lr_predict_udf(df: PandasDataFrame[float, float, float, float, float, float, float, float, float, float, float]) -> PandasSeries[int]:\n",
    "    import joblib, sys, os\n",
    "    import pandas as pd\n",
    "\n",
    "    import_dir = sys._xoptions.get(\"snowflake_import_directory\")\n",
    "    with open(os.path.join(import_dir, 'lr_model.joblib'), 'rb') as model_file:\n",
    "        model = joblib.load(model_file)\n",
    "\n",
    "    return model.predict(df)\n",
    "\n",
    "session.udf.register(\n",
    "    func = lr_predict_udf,\n",
    "    is_permanent = True,\n",
    "    name = 'lr_predict_udf',\n",
    "    replace = True,\n",
    "    stage_location = '@snowpark_test_stage',\n",
    "    packages=[\n",
    "            'snowflake-snowpark-python',\n",
    "            'scikit-learn',\n",
    "            'joblib']\n",
    "\n",
    ")"
   ]
  },
  {
   "cell_type": "code",
   "execution_count": 33,
   "id": "a3f2c2df-25c5-49f8-8415-53e79e2a7e59",
   "metadata": {
    "id": "a3f2c2df-25c5-49f8-8415-53e79e2a7e59",
    "outputId": "53daec79-02f1-4551-d390-1a0d46d028c5"
   },
   "outputs": [
    {
     "name": "stdout",
     "output_type": "stream",
     "text": [
      "Explained Variance Score For Linear Regression:  -0.2538003732762937\n",
      "Max Error For Linear Regression:  957.9142799713436\n",
      "MAE For Linear Regression:  160.33520121823068\n",
      "MSE For Linear Regression:  50632.02232570326\n",
      "MSLE For Linear Regression:  3.0178036148751954\n",
      "MDAE For Linear Regression:  113.4131591025766\n",
      "R2 For Linear Regression:  -0.55597921793249\n",
      "Mean Poisson Deviance For Linear Regression:  416.1912413074655\n",
      "Mean Gamma Deviance For Linear Regression:  7.46955143010058\n",
      "Mean Absolute Percentage ErrorD For Linear Regression:  2.9894440961164515\n",
      "D2 Absolute Error Score For Linear Regression:  -0.17385062814935615\n",
      "D2 Pinball Score For Linear Regression:  -0.17385062814935615\n",
      "D2 Tweedie Score For Linear Regression:  -0.5559791147634778\n"
     ]
    }
   ],
   "source": [
    "result_df = pd.DataFrame(session.sql(f'''\n",
    "    select lr_predict_udf(\"SEASON\", \"HOLIDAY\", \"WORKINGDAY\", \"WEATHER\", \"WEEKDAY\", \"HOUR\", \"HUMIDITY\", \"MONTH\", \"TEMP\", \"ATEMP\", \"WINDSPEED\" ) as predict\n",
    "    from lr_test\n",
    "''').collect())\n",
    "\n",
    "from sklearn.metrics import (\n",
    "explained_variance_score, \n",
    "max_error, \n",
    "mean_absolute_error, \n",
    "mean_squared_error, \n",
    "mean_squared_log_error,\n",
    "median_absolute_error, \n",
    "r2_score, \n",
    "mean_poisson_deviance,\n",
    "mean_gamma_deviance, \n",
    "mean_absolute_percentage_error, \n",
    "d2_absolute_error_score,\n",
    "d2_pinball_score,\n",
    "d2_tweedie_score\n",
    ")\n",
    "\n",
    "\n",
    "df_test = session.table(\"lr_test\")\n",
    "y_true = df_test.select([\"COUNT\"]).to_pandas()\n",
    "print (\"Explained Variance Score For Linear Regression: \", explained_variance_score(np.exp(np.log1p(y_true[\"COUNT\"])),np.exp(result_df[\"PREDICT\"])))\n",
    "print (\"Max Error For Linear Regression: \", max_error(np.exp(np.log1p(y_true[\"COUNT\"])),np.exp(result_df[\"PREDICT\"])))\n",
    "print (\"MAE For Linear Regression: \", mean_absolute_error(np.exp(np.log1p(y_true[\"COUNT\"])),np.exp(result_df[\"PREDICT\"])))\n",
    "print (\"MSE For Linear Regression: \", mean_squared_error(np.exp(np.log1p(y_true[\"COUNT\"])),np.exp(result_df[\"PREDICT\"])))\n",
    "print (\"MSLE For Linear Regression: \", mean_squared_log_error(np.exp(np.log1p(y_true[\"COUNT\"])),np.exp(result_df[\"PREDICT\"])))\n",
    "print (\"MDAE For Linear Regression: \", median_absolute_error(np.exp(np.log1p(y_true[\"COUNT\"])),np.exp(result_df[\"PREDICT\"])))\n",
    "print (\"R2 For Linear Regression: \", r2_score(np.exp(np.log1p(y_true[\"COUNT\"])),np.exp(result_df[\"PREDICT\"])))\n",
    "print (\"Mean Poisson Deviance For Linear Regression: \", mean_poisson_deviance(np.exp(np.log1p(y_true[\"COUNT\"])),np.exp(result_df[\"PREDICT\"])))\n",
    "print (\"Mean Gamma Deviance For Linear Regression: \", mean_gamma_deviance(np.exp(np.log1p(y_true[\"COUNT\"])),np.exp(result_df[\"PREDICT\"])))\n",
    "print (\"Mean Absolute Percentage ErrorD For Linear Regression: \", mean_absolute_percentage_error(np.exp(np.log1p(y_true[\"COUNT\"])),np.exp(result_df[\"PREDICT\"])))\n",
    "print (\"D2 Absolute Error Score For Linear Regression: \", d2_absolute_error_score(np.exp(np.log1p(y_true[\"COUNT\"])),np.exp(result_df[\"PREDICT\"])))\n",
    "print (\"D2 Pinball Score For Linear Regression: \", d2_pinball_score(np.exp(np.log1p(y_true[\"COUNT\"])),np.exp(result_df[\"PREDICT\"])))\n",
    "print (\"D2 Tweedie Score For Linear Regression: \", d2_tweedie_score(np.exp(np.log1p(y_true[\"COUNT\"])),np.exp(result_df[\"PREDICT\"])))\n"
   ]
  },
  {
   "cell_type": "markdown",
   "id": "c8ae20bd",
   "metadata": {},
   "source": [
    "### LINEAR REGRESSION MODEL - Using SNOWPARK ML Package\n",
    "* Section demonstates how SNOWPARKML library can be utilized to build ML models\n",
    "* Also delineates how it closely resembles Sklearn coding paradigm"
   ]
  },
  {
   "cell_type": "code",
   "execution_count": 35,
   "id": "3918c1e1-9c2e-4c76-9a7f-ba127347e101",
   "metadata": {
    "id": "3918c1e1-9c2e-4c76-9a7f-ba127347e101",
    "outputId": "0ce57225-8933-4151-e32c-522c200d5114"
   },
   "outputs": [
    {
     "name": "stdout",
     "output_type": "stream",
     "text": [
      "--------------------------------------------------------------------------------------------------------------------------------------------------------------------\n",
      "|\"SEASON\"  |\"HOLIDAY\"  |\"WORKINGDAY\"  |\"WEATHER\"  |\"TEMP\"  |\"ATEMP\"  |\"HUMIDITY\"  |\"WINDSPEED\"  |\"CASUAL\"  |\"REGISTERED\"  |\"COUNT\"  |\"HOUR\"  |\"MONTH\"  |\"WEEKDAY\"  |\n",
      "--------------------------------------------------------------------------------------------------------------------------------------------------------------------\n",
      "|1         |0          |0             |1          |9.84    |14.395   |81          |0.0          |3         |13            |16       |0       |1        |6          |\n",
      "|1         |0          |0             |1          |9.02    |13.635   |80          |0.0          |8         |32            |40       |1       |1        |6          |\n",
      "|1         |0          |0             |1          |9.02    |13.635   |80          |0.0          |5         |27            |32       |2       |1        |6          |\n",
      "|1         |0          |0             |1          |9.84    |14.395   |75          |0.0          |3         |10            |13       |3       |1        |6          |\n",
      "|1         |0          |0             |1          |9.84    |14.395   |75          |0.0          |0         |1             |1        |4       |1        |6          |\n",
      "|1         |0          |0             |2          |9.84    |12.88    |75          |6.0032       |0         |1             |1        |5       |1        |6          |\n",
      "|1         |0          |0             |1          |9.02    |13.635   |80          |0.0          |2         |0             |2        |6       |1        |6          |\n",
      "|1         |0          |0             |1          |8.2     |12.88    |86          |0.0          |1         |2             |3        |7       |1        |6          |\n",
      "|1         |0          |0             |1          |9.84    |14.395   |75          |0.0          |1         |7             |8        |8       |1        |6          |\n",
      "|1         |0          |0             |1          |13.12   |17.425   |76          |0.0          |8         |6             |14       |9       |1        |6          |\n",
      "--------------------------------------------------------------------------------------------------------------------------------------------------------------------\n",
      "\n"
     ]
    }
   ],
   "source": [
    "df = df_table.drop(\"DATETIME\",\"DATE\")\n",
    "df.show()"
   ]
  },
  {
   "cell_type": "code",
   "execution_count": 36,
   "id": "30a32b79-6b37-47ef-b580-d8fe67d46630",
   "metadata": {
    "id": "30a32b79-6b37-47ef-b580-d8fe67d46630"
   },
   "outputs": [
    {
     "ename": "FileNotFoundError",
     "evalue": "[Errno 2] No such file or directory: 'preprocessing_pipeline.joblib'",
     "output_type": "error",
     "traceback": [
      "\u001b[1;31m---------------------------------------------------------------------------\u001b[0m",
      "\u001b[1;31mFileNotFoundError\u001b[0m                         Traceback (most recent call last)",
      "Cell \u001b[1;32mIn[36], line 10\u001b[0m\n\u001b[0;32m      7\u001b[0m OUTPUT_COLUMNS \u001b[38;5;241m=\u001b[39m [\u001b[38;5;124m'\u001b[39m\u001b[38;5;124mPREDICTED_COUNT\u001b[39m\u001b[38;5;124m'\u001b[39m]\n\u001b[0;32m      9\u001b[0m PIPELINE_FILE \u001b[38;5;241m=\u001b[39m \u001b[38;5;124m'\u001b[39m\u001b[38;5;124mpreprocessing_pipeline.joblib\u001b[39m\u001b[38;5;124m'\u001b[39m\n\u001b[1;32m---> 10\u001b[0m preprocessing_pipeline \u001b[38;5;241m=\u001b[39m \u001b[43mjoblib\u001b[49m\u001b[38;5;241;43m.\u001b[39;49m\u001b[43mload\u001b[49m\u001b[43m(\u001b[49m\u001b[43mPIPELINE_FILE\u001b[49m\u001b[43m)\u001b[49m\n",
      "File \u001b[1;32m~\\anaconda3\\envs\\def_gui_3.8_env\\lib\\site-packages\\joblib\\numpy_pickle.py:650\u001b[0m, in \u001b[0;36mload\u001b[1;34m(filename, mmap_mode)\u001b[0m\n\u001b[0;32m    648\u001b[0m         obj \u001b[38;5;241m=\u001b[39m _unpickle(fobj)\n\u001b[0;32m    649\u001b[0m \u001b[38;5;28;01melse\u001b[39;00m:\n\u001b[1;32m--> 650\u001b[0m     \u001b[38;5;28;01mwith\u001b[39;00m \u001b[38;5;28;43mopen\u001b[39;49m\u001b[43m(\u001b[49m\u001b[43mfilename\u001b[49m\u001b[43m,\u001b[49m\u001b[43m \u001b[49m\u001b[38;5;124;43m'\u001b[39;49m\u001b[38;5;124;43mrb\u001b[39;49m\u001b[38;5;124;43m'\u001b[39;49m\u001b[43m)\u001b[49m \u001b[38;5;28;01mas\u001b[39;00m f:\n\u001b[0;32m    651\u001b[0m         \u001b[38;5;28;01mwith\u001b[39;00m _read_fileobject(f, filename, mmap_mode) \u001b[38;5;28;01mas\u001b[39;00m fobj:\n\u001b[0;32m    652\u001b[0m             \u001b[38;5;28;01mif\u001b[39;00m \u001b[38;5;28misinstance\u001b[39m(fobj, \u001b[38;5;28mstr\u001b[39m):\n\u001b[0;32m    653\u001b[0m                 \u001b[38;5;66;03m# if the returned file object is a string, this means we\u001b[39;00m\n\u001b[0;32m    654\u001b[0m                 \u001b[38;5;66;03m# try to load a pickle file generated with an version of\u001b[39;00m\n\u001b[0;32m    655\u001b[0m                 \u001b[38;5;66;03m# Joblib so we load it with joblib compatibility function.\u001b[39;00m\n",
      "\u001b[1;31mFileNotFoundError\u001b[0m: [Errno 2] No such file or directory: 'preprocessing_pipeline.joblib'"
     ]
    }
   ],
   "source": [
    "CATEGORICAL_COLUMNS = [\"SEASON\", \"WEATHER\"]\n",
    "CATEGORICAL_COLUMNS_OHE = [\"SEASON_OE\", \"WEATHER_OE\"]\n",
    "MIN_MAX_COLUMNS = [\"TEMP\", \"ATEMP\"]\n",
    "FEATURE_LIST = [ \"HOLIDAY\", \"WORKINGDAY\", \"WEEKDAY\", \"HOUR\", \"HUMIDITY\", \"MONTH\", \"TEMP\", \"ATEMP\", \"WINDSPEED\"]\n",
    "\n",
    "LABEL_COLUMNS = ['COUNT']\n",
    "OUTPUT_COLUMNS = ['PREDICTED_COUNT']\n",
    "\n",
    "PIPELINE_FILE = 'preprocessing_pipeline.joblib'\n",
    "preprocessing_pipeline = joblib.load(PIPELINE_FILE)"
   ]
  },
  {
   "cell_type": "code",
   "execution_count": null,
   "id": "bd05ec9f-2429-4674-8799-9fd515538650",
   "metadata": {
    "id": "bd05ec9f-2429-4674-8799-9fd515538650",
    "outputId": "901ac98e-87a3-4a41-d039-4293e76c4596"
   },
   "outputs": [],
   "source": [
    "# Split the data into train and test sets\n",
    "bsd_train_df, bsd_test_df = df.random_split(weights=[0.7, 0.3], seed=0)\n",
    "\n",
    "# Run the train and test sets through the Pipeline object we defined earlier\n",
    "train_df = preprocessing_pipeline.fit(bsd_train_df).transform(bsd_train_df)\n",
    "test_df = preprocessing_pipeline.transform(bsd_test_df)\n",
    "train_df.show()\n",
    "test_df.show()"
   ]
  },
  {
   "cell_type": "code",
   "execution_count": null,
   "id": "4846fbea-3e60-49d2-838a-f01cb69c5831",
   "metadata": {
    "id": "4846fbea-3e60-49d2-838a-f01cb69c5831",
    "outputId": "892b0000-90ab-4ef5-e9d3-22fdb6eaf8ee"
   },
   "outputs": [],
   "source": [
    "from snowflake.ml.modeling.linear_model import LinearRegression\n",
    "\n",
    "\n",
    "regressor = LinearRegression(\n",
    "    input_cols=CATEGORICAL_COLUMNS_OHE+FEATURE_LIST,\n",
    "    label_cols=LABEL_COLUMNS,\n",
    "    output_cols=OUTPUT_COLUMNS\n",
    ")\n",
    "\n",
    "# Train\n",
    "regressor.fit(train_df)\n",
    "\n",
    "# Predict\n",
    "result = regressor.predict(test_df)\n",
    "result.show()"
   ]
  },
  {
   "cell_type": "code",
   "execution_count": null,
   "id": "d34d5e2c-0a86-47d2-94cd-86bd6c5325b3",
   "metadata": {
    "id": "d34d5e2c-0a86-47d2-94cd-86bd6c5325b3",
    "outputId": "3bb57e74-4c8a-41c5-f193-bca224f391f9"
   },
   "outputs": [],
   "source": [
    "\n",
    "from snowflake.ml.modeling.metrics import mean_squared_error, explained_variance_score, mean_absolute_error, mean_absolute_percentage_error, d2_absolute_error_score, d2_pinball_score\n",
    "\n",
    "mse = mean_squared_error(df=result, y_true_col_names=\"COUNT\", y_pred_col_names=\"PREDICTED_COUNT\")\n",
    "evs = explained_variance_score(df=result, y_true_col_names=\"COUNT\", y_pred_col_names=\"PREDICTED_COUNT\")\n",
    "mae = mean_absolute_error(df=result, y_true_col_names=\"COUNT\", y_pred_col_names=\"PREDICTED_COUNT\")\n",
    "mape = mean_absolute_percentage_error(df=result, y_true_col_names=\"COUNT\", y_pred_col_names=\"PREDICTED_COUNT\")\n",
    "d2aes = d2_absolute_error_score(df=result, y_true_col_names=\"COUNT\", y_pred_col_names=\"PREDICTED_COUNT\")\n",
    "d2ps = d2_pinball_score(df=result, y_true_col_names=\"COUNT\", y_pred_col_names=\"PREDICTED_COUNT\")\n",
    "\n",
    "print(f\"Mean squared error: {mse}\")\n",
    "print(f\"explained_variance_score: {evs}\")\n",
    "print(f\"mean_absolute_error: {mae}\")\n",
    "print(f\"mean_absolute_percentage_error: {mape}\")\n",
    "print(f\"d2_absolute_error_score: {d2aes}\")\n",
    "print(f\"d2_pinball_score: {d2ps}\")\n"
   ]
  }
 ],
 "metadata": {
  "colab": {
   "provenance": []
  },
  "kernelspec": {
   "display_name": "Python 3 (ipykernel)",
   "language": "python",
   "name": "python3"
  },
  "language_info": {
   "codemirror_mode": {
    "name": "ipython",
    "version": 3
   },
   "file_extension": ".py",
   "mimetype": "text/x-python",
   "name": "python",
   "nbconvert_exporter": "python",
   "pygments_lexer": "ipython3",
   "version": "3.8.18"
  }
 },
 "nbformat": 4,
 "nbformat_minor": 5
}
